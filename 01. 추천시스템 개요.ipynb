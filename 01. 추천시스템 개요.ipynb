{
 "cells": [
  {
   "cell_type": "markdown",
   "metadata": {},
   "source": [
    "# 추천 시스템 개요"
   ]
  },
  {
   "cell_type": "markdown",
   "metadata": {},
   "source": [
    "## 추천 시스템 Overview"
   ]
  },
  {
   "cell_type": "markdown",
   "metadata": {},
   "source": [
    "### 추천의 사전적 의미\n",
    " - 어떤 조건에 적합한 대상을 책임지고 소개함(Naver 국어사전)"
   ]
  },
  {
   "cell_type": "markdown",
   "metadata": {},
   "source": [
    "### 추천의 관점 기준 분류\n",
    "#### 사용자 관점\n",
    " - 사용자의 취향과 선호도를 파악함\n",
    " - 사용자의 선호도가 높을 것으로 예상되는 아이템을 예측하거나 제공함\n",
    " \n",
    "#### 서비스 제공자 관점\n",
    " - 서비스 제공자가 목표로 하는 KPI(매출, Page View 등)를 달성함"
   ]
  },
  {
   "cell_type": "markdown",
   "metadata": {},
   "source": [
    "### 추천 사례\n",
    "\n",
    "\n",
    "#### 아마존\n",
    " -  매출의 35%가 추천을 통해 발생\n",
    " \n",
    "#### 넷플릭스\n",
    "- 대여되는 영화의 2/3가 추천 영화를 경유\n",
    "\n",
    "#### 구글 뉴스\n",
    " - 38% 이상의 조회가 추천 뉴스를 경우"
   ]
  },
  {
   "cell_type": "markdown",
   "metadata": {},
   "source": [
    "### 추천 관련 용어정의\n",
    "\n",
    "#### User\n",
    " - 사용자\n",
    " \n",
    "#### Item\n",
    " - 추천이 되는 대상\n",
    " - 업종에 따라 다를 수 있음(예 : 온라인 서점 - 책, 넷플릭스 -영화)\n",
    " \n",
    "#### Rating\n",
    " - 사용자 아이템에 대한 선호도 평가 점수\n",
    " \n",
    "#### Preference / Taste\n",
    " - 선호 / 취향"
   ]
  },
  {
   "cell_type": "markdown",
   "metadata": {},
   "source": [
    "### System Architecture"
   ]
  },
  {
   "cell_type": "markdown",
   "metadata": {},
   "source": [
    "![System Architecture](./image/image_01.png)"
   ]
  },
  {
   "cell_type": "markdown",
   "metadata": {},
   "source": [
    "#### Application Server\n",
    " - 실제 사용자가 이용하는 서비스를 제공하는 서버(예:쇼핑몰)\n",
    " \n",
    "#### Contents DB\n",
    " - 상품 정보, 사용자 정보, 주문이력, 장바구니 이력 등을 저장한 데이터베이스\n",
    " \n",
    "#### Log Stream\n",
    " - 사용자가 Application Server(쇼핑몰)을 이용시 발생하는 이력 정보(Web Log)\n",
    " \n",
    "#### Recommendation Server\n",
    " - 추천 아이템을 생성하고, Applcation Server에 추천 데이터를 제공하는 서버\n",
    " \n",
    "#### Log Cache\n",
    " - Batch Processing을 거치지 않고 로그 데이터를 이용하여 추천 상품을 제공하기 위해 로그 데이터를 저장하는 공간(예 : 이전 조회 상품 등)\n",
    " \n",
    "#### Recommendation DB\n",
    " - Batch Processing을 통해 생성된 추천 상품을 저장하는 데이터베이스\n",
    " \n",
    "#### Content DB Replica\n",
    " - 추천 아이템를 생성하기 위한 Contents DB을 복사본\n",
    " - Contents DB를 사용할 수 있으나, 운영중인 서비스에 영향을 최소화 하기 위해 데이터를 복사하여 이용\n",
    " \n",
    "#### Log Storage\n",
    " - 추천 아이템을 생성하기 위해 사용하는 로그 데이터를 저장하는 공간 \n",
    " \n",
    "#### Batch Processing\n",
    "- 추천 아이템을 생성하는 작업\n",
    "- 이 작업시 CF 알고리즘, 통계적 기법등을 이용하여 추천 아이템을 생성"
   ]
  },
  {
   "cell_type": "code",
   "execution_count": null,
   "metadata": {
    "collapsed": true
   },
   "outputs": [],
   "source": []
  }
 ],
 "metadata": {
  "anaconda-cloud": {},
  "kernelspec": {
   "display_name": "Python [conda root]",
   "language": "python",
   "name": "conda-root-py"
  },
  "language_info": {
   "codemirror_mode": {
    "name": "ipython",
    "version": 3
   },
   "file_extension": ".py",
   "mimetype": "text/x-python",
   "name": "python",
   "nbconvert_exporter": "python",
   "pygments_lexer": "ipython3",
   "version": "3.5.4"
  }
 },
 "nbformat": 4,
 "nbformat_minor": 1
}
